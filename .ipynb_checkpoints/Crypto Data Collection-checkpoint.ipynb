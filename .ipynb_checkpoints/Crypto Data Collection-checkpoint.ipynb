{
 "cells": [
  {
   "cell_type": "code",
   "execution_count": 1,
   "id": "ed1168b7",
   "metadata": {},
   "outputs": [],
   "source": [
    "import pandas as pd\n",
    "import numpy as np\n",
    "import seaborn as sns\n",
    "import matplotlib.pyplot as plt\n",
    "import yfinance as yf\n",
    "from datetime import datetime\n",
    "#Colorama\n",
    "from colorama import Fore, Back, Style # For text colors\n",
    "y_= Fore.CYAN\n",
    "m_= Fore.WHITE"
   ]
  },
  {
   "cell_type": "markdown",
   "id": "01c6c3d7",
   "metadata": {},
   "source": [
    "# Bitcoin histerical data"
   ]
  },
  {
   "cell_type": "code",
   "execution_count": 2,
   "id": "aa2d1806",
   "metadata": {},
   "outputs": [
    {
     "name": "stdout",
     "output_type": "stream",
     "text": [
      "<class 'pandas.core.frame.DataFrame'>\n",
      "DatetimeIndex: 2929 entries, 2014-09-17 to 2022-09-23\n",
      "Data columns (total 7 columns):\n",
      " #   Column        Non-Null Count  Dtype  \n",
      "---  ------        --------------  -----  \n",
      " 0   Open          2929 non-null   float64\n",
      " 1   High          2929 non-null   float64\n",
      " 2   Low           2929 non-null   float64\n",
      " 3   Close         2929 non-null   float64\n",
      " 4   Volume        2929 non-null   int64  \n",
      " 5   Dividends     2929 non-null   int64  \n",
      " 6   Stock Splits  2929 non-null   int64  \n",
      "dtypes: float64(4), int64(3)\n",
      "memory usage: 183.1 KB\n"
     ]
    }
   ],
   "source": [
    "btc = yf.Ticker(\"BTC-USD\").history(period = \"max\", interval=\"1d\")\n",
    "btc.info()"
   ]
  },
  {
   "cell_type": "code",
   "execution_count": 3,
   "id": "9c048c8a",
   "metadata": {},
   "outputs": [
    {
     "data": {
      "text/html": [
       "<div>\n",
       "<style scoped>\n",
       "    .dataframe tbody tr th:only-of-type {\n",
       "        vertical-align: middle;\n",
       "    }\n",
       "\n",
       "    .dataframe tbody tr th {\n",
       "        vertical-align: top;\n",
       "    }\n",
       "\n",
       "    .dataframe thead th {\n",
       "        text-align: right;\n",
       "    }\n",
       "</style>\n",
       "<table border=\"1\" class=\"dataframe\">\n",
       "  <thead>\n",
       "    <tr style=\"text-align: right;\">\n",
       "      <th></th>\n",
       "      <th>Open</th>\n",
       "      <th>High</th>\n",
       "      <th>Low</th>\n",
       "      <th>Close</th>\n",
       "      <th>Volume</th>\n",
       "      <th>Dividends</th>\n",
       "      <th>Stock Splits</th>\n",
       "    </tr>\n",
       "    <tr>\n",
       "      <th>Date</th>\n",
       "      <th></th>\n",
       "      <th></th>\n",
       "      <th></th>\n",
       "      <th></th>\n",
       "      <th></th>\n",
       "      <th></th>\n",
       "      <th></th>\n",
       "    </tr>\n",
       "  </thead>\n",
       "  <tbody>\n",
       "    <tr>\n",
       "      <th>2014-09-17</th>\n",
       "      <td>465.864014</td>\n",
       "      <td>468.174011</td>\n",
       "      <td>452.421997</td>\n",
       "      <td>457.334015</td>\n",
       "      <td>21056800</td>\n",
       "      <td>0</td>\n",
       "      <td>0</td>\n",
       "    </tr>\n",
       "    <tr>\n",
       "      <th>2014-09-18</th>\n",
       "      <td>456.859985</td>\n",
       "      <td>456.859985</td>\n",
       "      <td>413.104004</td>\n",
       "      <td>424.440002</td>\n",
       "      <td>34483200</td>\n",
       "      <td>0</td>\n",
       "      <td>0</td>\n",
       "    </tr>\n",
       "    <tr>\n",
       "      <th>2014-09-19</th>\n",
       "      <td>424.102997</td>\n",
       "      <td>427.834991</td>\n",
       "      <td>384.532013</td>\n",
       "      <td>394.795990</td>\n",
       "      <td>37919700</td>\n",
       "      <td>0</td>\n",
       "      <td>0</td>\n",
       "    </tr>\n",
       "    <tr>\n",
       "      <th>2014-09-20</th>\n",
       "      <td>394.673004</td>\n",
       "      <td>423.295990</td>\n",
       "      <td>389.882996</td>\n",
       "      <td>408.903992</td>\n",
       "      <td>36863600</td>\n",
       "      <td>0</td>\n",
       "      <td>0</td>\n",
       "    </tr>\n",
       "    <tr>\n",
       "      <th>2014-09-21</th>\n",
       "      <td>408.084991</td>\n",
       "      <td>412.425995</td>\n",
       "      <td>393.181000</td>\n",
       "      <td>398.821014</td>\n",
       "      <td>26580100</td>\n",
       "      <td>0</td>\n",
       "      <td>0</td>\n",
       "    </tr>\n",
       "  </tbody>\n",
       "</table>\n",
       "</div>"
      ],
      "text/plain": [
       "                  Open        High         Low       Close    Volume  \\\n",
       "Date                                                                   \n",
       "2014-09-17  465.864014  468.174011  452.421997  457.334015  21056800   \n",
       "2014-09-18  456.859985  456.859985  413.104004  424.440002  34483200   \n",
       "2014-09-19  424.102997  427.834991  384.532013  394.795990  37919700   \n",
       "2014-09-20  394.673004  423.295990  389.882996  408.903992  36863600   \n",
       "2014-09-21  408.084991  412.425995  393.181000  398.821014  26580100   \n",
       "\n",
       "            Dividends  Stock Splits  \n",
       "Date                                 \n",
       "2014-09-17          0             0  \n",
       "2014-09-18          0             0  \n",
       "2014-09-19          0             0  \n",
       "2014-09-20          0             0  \n",
       "2014-09-21          0             0  "
      ]
     },
     "execution_count": 3,
     "metadata": {},
     "output_type": "execute_result"
    }
   ],
   "source": [
    "btc.head()"
   ]
  },
  {
   "cell_type": "code",
   "execution_count": 4,
   "id": "d2920d5c",
   "metadata": {},
   "outputs": [
    {
     "name": "stdout",
     "output_type": "stream",
     "text": [
      "\u001b[37mTotal records:\u001b[36m(2929, 7)\n",
      "\n",
      "\u001b[37mData types of data columns: \n",
      "\u001b[36mOpen            float64\n",
      "High            float64\n",
      "Low             float64\n",
      "Close           float64\n",
      "Volume            int64\n",
      "Dividends         int64\n",
      "Stock Splits      int64\n",
      "dtype: object\n"
     ]
    }
   ],
   "source": [
    "print(f\"{m_}Total records:{y_}{btc.shape}\\n\")\n",
    "print(f\"{m_}Data types of data columns: \\n{y_}{btc.dtypes}\")"
   ]
  },
  {
   "cell_type": "markdown",
   "id": "f0360c3a",
   "metadata": {},
   "source": [
    "# Etherium histerical data"
   ]
  },
  {
   "cell_type": "code",
   "execution_count": 5,
   "id": "facd0a6d",
   "metadata": {},
   "outputs": [
    {
     "name": "stdout",
     "output_type": "stream",
     "text": [
      "<class 'pandas.core.frame.DataFrame'>\n",
      "DatetimeIndex: 1780 entries, 2017-11-09 to 2022-09-23\n",
      "Data columns (total 7 columns):\n",
      " #   Column        Non-Null Count  Dtype  \n",
      "---  ------        --------------  -----  \n",
      " 0   Open          1780 non-null   float64\n",
      " 1   High          1780 non-null   float64\n",
      " 2   Low           1780 non-null   float64\n",
      " 3   Close         1780 non-null   float64\n",
      " 4   Volume        1780 non-null   int64  \n",
      " 5   Dividends     1780 non-null   int64  \n",
      " 6   Stock Splits  1780 non-null   int64  \n",
      "dtypes: float64(4), int64(3)\n",
      "memory usage: 111.2 KB\n"
     ]
    }
   ],
   "source": [
    "eth = yf.Ticker(\"ETH-USD\").history(period = \"max\", interval=\"1d\")\n",
    "eth.info()"
   ]
  },
  {
   "cell_type": "code",
   "execution_count": 6,
   "id": "01700e94",
   "metadata": {
    "scrolled": true
   },
   "outputs": [
    {
     "data": {
      "text/html": [
       "<div>\n",
       "<style scoped>\n",
       "    .dataframe tbody tr th:only-of-type {\n",
       "        vertical-align: middle;\n",
       "    }\n",
       "\n",
       "    .dataframe tbody tr th {\n",
       "        vertical-align: top;\n",
       "    }\n",
       "\n",
       "    .dataframe thead th {\n",
       "        text-align: right;\n",
       "    }\n",
       "</style>\n",
       "<table border=\"1\" class=\"dataframe\">\n",
       "  <thead>\n",
       "    <tr style=\"text-align: right;\">\n",
       "      <th></th>\n",
       "      <th>Open</th>\n",
       "      <th>High</th>\n",
       "      <th>Low</th>\n",
       "      <th>Close</th>\n",
       "      <th>Volume</th>\n",
       "      <th>Dividends</th>\n",
       "      <th>Stock Splits</th>\n",
       "    </tr>\n",
       "    <tr>\n",
       "      <th>Date</th>\n",
       "      <th></th>\n",
       "      <th></th>\n",
       "      <th></th>\n",
       "      <th></th>\n",
       "      <th></th>\n",
       "      <th></th>\n",
       "      <th></th>\n",
       "    </tr>\n",
       "  </thead>\n",
       "  <tbody>\n",
       "    <tr>\n",
       "      <th>2017-11-09</th>\n",
       "      <td>308.644989</td>\n",
       "      <td>329.451996</td>\n",
       "      <td>307.056000</td>\n",
       "      <td>320.884003</td>\n",
       "      <td>893249984</td>\n",
       "      <td>0</td>\n",
       "      <td>0</td>\n",
       "    </tr>\n",
       "    <tr>\n",
       "      <th>2017-11-10</th>\n",
       "      <td>320.670990</td>\n",
       "      <td>324.717987</td>\n",
       "      <td>294.541992</td>\n",
       "      <td>299.252991</td>\n",
       "      <td>885985984</td>\n",
       "      <td>0</td>\n",
       "      <td>0</td>\n",
       "    </tr>\n",
       "    <tr>\n",
       "      <th>2017-11-11</th>\n",
       "      <td>298.585999</td>\n",
       "      <td>319.453003</td>\n",
       "      <td>298.191986</td>\n",
       "      <td>314.681000</td>\n",
       "      <td>842300992</td>\n",
       "      <td>0</td>\n",
       "      <td>0</td>\n",
       "    </tr>\n",
       "    <tr>\n",
       "      <th>2017-11-12</th>\n",
       "      <td>314.690002</td>\n",
       "      <td>319.153015</td>\n",
       "      <td>298.513000</td>\n",
       "      <td>307.907990</td>\n",
       "      <td>1613479936</td>\n",
       "      <td>0</td>\n",
       "      <td>0</td>\n",
       "    </tr>\n",
       "    <tr>\n",
       "      <th>2017-11-13</th>\n",
       "      <td>307.024994</td>\n",
       "      <td>328.415009</td>\n",
       "      <td>307.024994</td>\n",
       "      <td>316.716003</td>\n",
       "      <td>1041889984</td>\n",
       "      <td>0</td>\n",
       "      <td>0</td>\n",
       "    </tr>\n",
       "  </tbody>\n",
       "</table>\n",
       "</div>"
      ],
      "text/plain": [
       "                  Open        High         Low       Close      Volume  \\\n",
       "Date                                                                     \n",
       "2017-11-09  308.644989  329.451996  307.056000  320.884003   893249984   \n",
       "2017-11-10  320.670990  324.717987  294.541992  299.252991   885985984   \n",
       "2017-11-11  298.585999  319.453003  298.191986  314.681000   842300992   \n",
       "2017-11-12  314.690002  319.153015  298.513000  307.907990  1613479936   \n",
       "2017-11-13  307.024994  328.415009  307.024994  316.716003  1041889984   \n",
       "\n",
       "            Dividends  Stock Splits  \n",
       "Date                                 \n",
       "2017-11-09          0             0  \n",
       "2017-11-10          0             0  \n",
       "2017-11-11          0             0  \n",
       "2017-11-12          0             0  \n",
       "2017-11-13          0             0  "
      ]
     },
     "execution_count": 6,
     "metadata": {},
     "output_type": "execute_result"
    }
   ],
   "source": [
    "eth.head()"
   ]
  },
  {
   "cell_type": "code",
   "execution_count": 7,
   "id": "fdc19fc6",
   "metadata": {},
   "outputs": [
    {
     "name": "stdout",
     "output_type": "stream",
     "text": [
      "\u001b[37mTotal records:\u001b[36m(1780, 7)\n",
      "\n",
      "\u001b[37mData types of data columns: \n",
      "\u001b[36mOpen            float64\n",
      "High            float64\n",
      "Low             float64\n",
      "Close           float64\n",
      "Volume            int64\n",
      "Dividends         int64\n",
      "Stock Splits      int64\n",
      "dtype: object\n"
     ]
    }
   ],
   "source": [
    "print(f\"{m_}Total records:{y_}{eth.shape}\\n\")\n",
    "print(f\"{m_}Data types of data columns: \\n{y_}{eth.dtypes}\")"
   ]
  },
  {
   "cell_type": "markdown",
   "id": "7129fad5",
   "metadata": {},
   "source": [
    "# Litcoin histerical data"
   ]
  },
  {
   "cell_type": "code",
   "execution_count": 8,
   "id": "84c1045d",
   "metadata": {},
   "outputs": [
    {
     "name": "stdout",
     "output_type": "stream",
     "text": [
      "<class 'pandas.core.frame.DataFrame'>\n",
      "DatetimeIndex: 2929 entries, 2014-09-17 to 2022-09-23\n",
      "Data columns (total 7 columns):\n",
      " #   Column        Non-Null Count  Dtype  \n",
      "---  ------        --------------  -----  \n",
      " 0   Open          2929 non-null   float64\n",
      " 1   High          2929 non-null   float64\n",
      " 2   Low           2929 non-null   float64\n",
      " 3   Close         2929 non-null   float64\n",
      " 4   Volume        2929 non-null   int64  \n",
      " 5   Dividends     2929 non-null   int64  \n",
      " 6   Stock Splits  2929 non-null   int64  \n",
      "dtypes: float64(4), int64(3)\n",
      "memory usage: 183.1 KB\n"
     ]
    }
   ],
   "source": [
    "ltc = yf.Ticker(\"LTC-USD\").history(period = \"max\", interval=\"1d\")\n",
    "ltc.info()"
   ]
  },
  {
   "cell_type": "code",
   "execution_count": 9,
   "id": "fd83ef36",
   "metadata": {},
   "outputs": [
    {
     "data": {
      "text/html": [
       "<div>\n",
       "<style scoped>\n",
       "    .dataframe tbody tr th:only-of-type {\n",
       "        vertical-align: middle;\n",
       "    }\n",
       "\n",
       "    .dataframe tbody tr th {\n",
       "        vertical-align: top;\n",
       "    }\n",
       "\n",
       "    .dataframe thead th {\n",
       "        text-align: right;\n",
       "    }\n",
       "</style>\n",
       "<table border=\"1\" class=\"dataframe\">\n",
       "  <thead>\n",
       "    <tr style=\"text-align: right;\">\n",
       "      <th></th>\n",
       "      <th>Open</th>\n",
       "      <th>High</th>\n",
       "      <th>Low</th>\n",
       "      <th>Close</th>\n",
       "      <th>Volume</th>\n",
       "      <th>Dividends</th>\n",
       "      <th>Stock Splits</th>\n",
       "    </tr>\n",
       "    <tr>\n",
       "      <th>Date</th>\n",
       "      <th></th>\n",
       "      <th></th>\n",
       "      <th></th>\n",
       "      <th></th>\n",
       "      <th></th>\n",
       "      <th></th>\n",
       "      <th></th>\n",
       "    </tr>\n",
       "  </thead>\n",
       "  <tbody>\n",
       "    <tr>\n",
       "      <th>2014-09-17</th>\n",
       "      <td>5.08589</td>\n",
       "      <td>5.17077</td>\n",
       "      <td>4.96595</td>\n",
       "      <td>5.05855</td>\n",
       "      <td>3071840</td>\n",
       "      <td>0</td>\n",
       "      <td>0</td>\n",
       "    </tr>\n",
       "    <tr>\n",
       "      <th>2014-09-18</th>\n",
       "      <td>5.06543</td>\n",
       "      <td>5.06543</td>\n",
       "      <td>4.57996</td>\n",
       "      <td>4.68523</td>\n",
       "      <td>4569260</td>\n",
       "      <td>0</td>\n",
       "      <td>0</td>\n",
       "    </tr>\n",
       "    <tr>\n",
       "      <th>2014-09-19</th>\n",
       "      <td>4.68729</td>\n",
       "      <td>4.75582</td>\n",
       "      <td>4.25435</td>\n",
       "      <td>4.32777</td>\n",
       "      <td>3917450</td>\n",
       "      <td>0</td>\n",
       "      <td>0</td>\n",
       "    </tr>\n",
       "    <tr>\n",
       "      <th>2014-09-20</th>\n",
       "      <td>4.32920</td>\n",
       "      <td>4.61608</td>\n",
       "      <td>4.20219</td>\n",
       "      <td>4.28644</td>\n",
       "      <td>5490660</td>\n",
       "      <td>0</td>\n",
       "      <td>0</td>\n",
       "    </tr>\n",
       "    <tr>\n",
       "      <th>2014-09-21</th>\n",
       "      <td>4.26307</td>\n",
       "      <td>4.30013</td>\n",
       "      <td>4.15499</td>\n",
       "      <td>4.24592</td>\n",
       "      <td>2931220</td>\n",
       "      <td>0</td>\n",
       "      <td>0</td>\n",
       "    </tr>\n",
       "  </tbody>\n",
       "</table>\n",
       "</div>"
      ],
      "text/plain": [
       "               Open     High      Low    Close   Volume  Dividends  \\\n",
       "Date                                                                 \n",
       "2014-09-17  5.08589  5.17077  4.96595  5.05855  3071840          0   \n",
       "2014-09-18  5.06543  5.06543  4.57996  4.68523  4569260          0   \n",
       "2014-09-19  4.68729  4.75582  4.25435  4.32777  3917450          0   \n",
       "2014-09-20  4.32920  4.61608  4.20219  4.28644  5490660          0   \n",
       "2014-09-21  4.26307  4.30013  4.15499  4.24592  2931220          0   \n",
       "\n",
       "            Stock Splits  \n",
       "Date                      \n",
       "2014-09-17             0  \n",
       "2014-09-18             0  \n",
       "2014-09-19             0  \n",
       "2014-09-20             0  \n",
       "2014-09-21             0  "
      ]
     },
     "execution_count": 9,
     "metadata": {},
     "output_type": "execute_result"
    }
   ],
   "source": [
    "ltc.head()"
   ]
  },
  {
   "cell_type": "code",
   "execution_count": 10,
   "id": "458e99c1",
   "metadata": {},
   "outputs": [
    {
     "name": "stdout",
     "output_type": "stream",
     "text": [
      "\u001b[37mTotal records:\u001b[36m(2929, 7)\n",
      "\n",
      "\u001b[37mData types of data columns: \n",
      "\u001b[36mOpen            float64\n",
      "High            float64\n",
      "Low             float64\n",
      "Close           float64\n",
      "Volume            int64\n",
      "Dividends         int64\n",
      "Stock Splits      int64\n",
      "dtype: object\n"
     ]
    }
   ],
   "source": [
    "print(f\"{m_}Total records:{y_}{ltc.shape}\\n\")\n",
    "print(f\"{m_}Data types of data columns: \\n{y_}{ltc.dtypes}\")"
   ]
  },
  {
   "cell_type": "markdown",
   "id": "cd084187",
   "metadata": {},
   "source": [
    "# BNB Coin Histerical Data"
   ]
  },
  {
   "cell_type": "code",
   "execution_count": 17,
   "id": "d1d49145",
   "metadata": {},
   "outputs": [
    {
     "name": "stdout",
     "output_type": "stream",
     "text": [
      "<class 'pandas.core.frame.DataFrame'>\n",
      "DatetimeIndex: 1780 entries, 2017-11-09 to 2022-09-23\n",
      "Data columns (total 7 columns):\n",
      " #   Column        Non-Null Count  Dtype  \n",
      "---  ------        --------------  -----  \n",
      " 0   Open          1780 non-null   float64\n",
      " 1   High          1780 non-null   float64\n",
      " 2   Low           1780 non-null   float64\n",
      " 3   Close         1780 non-null   float64\n",
      " 4   Volume        1780 non-null   int64  \n",
      " 5   Dividends     1780 non-null   int64  \n",
      " 6   Stock Splits  1780 non-null   int64  \n",
      "dtypes: float64(4), int64(3)\n",
      "memory usage: 111.2 KB\n"
     ]
    }
   ],
   "source": [
    "BNB_Coin = yf.Ticker(\"BNB-USD\").history(period = \"max\", interval=\"1d\")\n",
    "BNB_Coin.info()"
   ]
  },
  {
   "cell_type": "code",
   "execution_count": 18,
   "id": "5686b364",
   "metadata": {},
   "outputs": [
    {
     "name": "stdout",
     "output_type": "stream",
     "text": [
      "\u001b[37mTotal records:\u001b[36m(1780, 7)\n",
      "\n",
      "\u001b[37mData types of data columns: \n",
      "\u001b[36mOpen            float64\n",
      "High            float64\n",
      "Low             float64\n",
      "Close           float64\n",
      "Volume            int64\n",
      "Dividends         int64\n",
      "Stock Splits      int64\n",
      "dtype: object\n"
     ]
    }
   ],
   "source": [
    "print(f\"{m_}Total records:{y_}{BNB_Coin.shape}\\n\")\n",
    "print(f\"{m_}Data types of data columns: \\n{y_}{BNB_Coin.dtypes}\")"
   ]
  },
  {
   "cell_type": "markdown",
   "id": "24d485af",
   "metadata": {},
   "source": [
    "# Exporting Data of All 4 Types of Cryptocurrencies Into Separate CSV Files"
   ]
  },
  {
   "cell_type": "code",
   "execution_count": 25,
   "id": "ccf62fba",
   "metadata": {},
   "outputs": [],
   "source": [
    "Path = 'F:\\\\Ml files\\\\crypto price prediction\\\\data\\\\'"
   ]
  },
  {
   "cell_type": "code",
   "execution_count": 26,
   "id": "93ee8de1",
   "metadata": {},
   "outputs": [],
   "source": [
    "def to_csv(dataframe, file_name):\n",
    "    return dataframe.to_csv(Path+file_name, index = True)"
   ]
  },
  {
   "cell_type": "code",
   "execution_count": 27,
   "id": "c153261a",
   "metadata": {},
   "outputs": [],
   "source": [
    "to_csv(btc, 'bitcoin_data.csv')\n",
    "to_csv(eth, 'etherium_data.csv')\n",
    "to_csv(ltc, 'litcoin_data.csv')\n",
    "to_csv(BNB_Coin, 'BNB_Coin_data.csv')"
   ]
  }
 ],
 "metadata": {
  "kernelspec": {
   "display_name": "Python 3 (ipykernel)",
   "language": "python",
   "name": "python3"
  },
  "language_info": {
   "codemirror_mode": {
    "name": "ipython",
    "version": 3
   },
   "file_extension": ".py",
   "mimetype": "text/x-python",
   "name": "python",
   "nbconvert_exporter": "python",
   "pygments_lexer": "ipython3",
   "version": "3.9.12"
  }
 },
 "nbformat": 4,
 "nbformat_minor": 5
}
